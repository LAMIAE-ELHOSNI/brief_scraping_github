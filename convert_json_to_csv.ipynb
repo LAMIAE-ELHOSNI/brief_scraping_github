{
 "cells": [
  {
   "cell_type": "code",
   "execution_count": null,
   "id": "aa4ab292",
   "metadata": {},
   "outputs": [],
   "source": [
    "import pandas as pd\n",
    "import json\n",
    "\n",
    "data = []\n",
    "\n",
    "# Read the JSON file line by line\n",
    "with open('repository_data_by_month_2015_to_2022.json', 'r') as json_file:\n",
    "    for line in json_file:\n",
    "        try:\n",
    "            # Load each line as a JSON object\n",
    "            json_data = json.loads(line)\n",
    "            data.append(json_data)\n",
    "        except json.JSONDecodeError as e:\n",
    "            print(f\"Error occurred while decoding JSON: {e}\")\n",
    "\n",
    "# Convert JSON to DataFrame\n",
    "df = pd.DataFrame(data)\n",
    "\n",
    "# Save DataFrame as CSV\n",
    "df.to_csv('repository_data_by_month_2015_to_2022.csv', index=False)\n"
   ]
  }
 ],
 "metadata": {
  "kernelspec": {
   "display_name": "Python 3 (ipykernel)",
   "language": "python",
   "name": "python3"
  },
  "language_info": {
   "codemirror_mode": {
    "name": "ipython",
    "version": 3
   },
   "file_extension": ".py",
   "mimetype": "text/x-python",
   "name": "python",
   "nbconvert_exporter": "python",
   "pygments_lexer": "ipython3",
   "version": "3.11.3"
  }
 },
 "nbformat": 4,
 "nbformat_minor": 5
}
